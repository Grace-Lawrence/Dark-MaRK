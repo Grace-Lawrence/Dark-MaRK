{
 "cells": [
  {
   "cell_type": "markdown",
   "id": "4407e762",
   "metadata": {},
   "source": [
    "# Example Use of Dark-MaRK Package"
   ]
  },
  {
   "cell_type": "markdown",
   "id": "049f8107",
   "metadata": {},
   "source": [
    "The Dark Mark package is designed to create bespoke predictions for the dark matter direct detectors. It offers users the ability to alter the halo model, detector, and dark matter candidate. It also allows users to calculate their differential event rate using either analytical models, or numeric integration from input simulations. \n"
   ]
  },
  {
   "cell_type": "markdown",
   "id": "a00ee1cd",
   "metadata": {},
   "source": [
    "This tutorial will demonstrate how to use Dark MaRK to test the expected signal of a dark matter direct detector, given an example simulations. *** Link to Read the Docs***"
   ]
  },
  {
   "cell_type": "markdown",
   "id": "e869c618",
   "metadata": {},
   "source": [
    "#### Import neccessary packages"
   ]
  },
  {
   "cell_type": "code",
   "execution_count": 3,
   "id": "639d217e",
   "metadata": {},
   "outputs": [],
   "source": [
    "import astropy.units as u \n",
    "import darkmark\n",
    "import numpy as np \n",
    "import os"
   ]
  },
  {
   "cell_type": "markdown",
   "id": "08554728",
   "metadata": {},
   "source": [
    "#### Import some example data - in this case we are downloading a Milky Way halo analogue from the FIRE collaborations latte suite. We download only 1/4 of the particles due to large file size.  The file is large so expect a short wait for download. The download file is then named accordingly."
   ]
  },
  {
   "cell_type": "code",
   "execution_count": 2,
   "id": "8d0569ff",
   "metadata": {},
   "outputs": [
    {
     "name": "stdout",
     "output_type": "stream",
     "text": [
      "--2021-10-18 16:38:13--  https://girder.hub.yt/api/v1/item/5b33f745323d120001bfe48d/download\n",
      "Resolving girder.hub.yt (girder.hub.yt)... 141.142.231.2\n",
      "Connecting to girder.hub.yt (girder.hub.yt)|141.142.231.2|:443... connected.\n",
      "HTTP request sent, awaiting response... 200 OK\n",
      "Length: 2460753960 (2.3G) [application/octet-stream]\n",
      "Saving to: ‘download’\n",
      "\n",
      "download            100%[===================>]   2.29G  4.02MB/s    in 20m 43s \n",
      "\n",
      "2021-10-18 16:58:57 (1.89 MB/s) - ‘download’ saved [2460753960/2460753960]\n",
      "\n"
     ]
    }
   ],
   "source": [
    "!wget https://girder.hub.yt/api/v1/item/5b33f745323d120001bfe48d/download"
   ]
  },
  {
   "cell_type": "code",
   "execution_count": 6,
   "id": "330ba95f",
   "metadata": {},
   "outputs": [],
   "source": [
    "!mv download snapshot_600.1.hdf5"
   ]
  },
  {
   "cell_type": "markdown",
   "id": "7b3d1c54",
   "metadata": {},
   "source": [
    "#### Load in the functions from the darkmark package that are needed"
   ]
  },
  {
   "cell_type": "code",
   "execution_count": 1,
   "id": "04208228",
   "metadata": {},
   "outputs": [
    {
     "name": "stdout",
     "output_type": "stream",
     "text": [
      "/Users/gracelawrence/Documents/2021/Dark-MaRK\r\n"
     ]
    }
   ],
   "source": [
    "from darkmark.boostrap import bootstrap_rate\n",
    "from darkmark.simload import load_sim_profile \n",
    "from darkmark.sampling_transformations import def_samp_coord, calc_real_uE_pE,sample_dm_solcirc \n",
    "from darkmark.dm_detector_class import Nibbler "
   ]
  },
  {
   "cell_type": "markdown",
   "id": "9c0465ac",
   "metadata": {},
   "source": [
    "#### Define the parameters of the experiment you want to model. Some of these parameters are not called in the example functions below."
   ]
  },
  {
   "cell_type": "code",
   "execution_count": 10,
   "id": "95e9db2a",
   "metadata": {},
   "outputs": [],
   "source": [
    "v0 = 233 #Average Velocity Speed of Dark Matter in the Halo in km/s.\n",
    "rho_dm = 0.3 #Dark Matter Density in (Gev/c^2)/cm^3.\n",
    "M_dm = 60 #Dark Matter Particle Mass in GeV/c^2.\n",
    "A = 73 #Atomic Mass of the Target Detector Nuclei.\n",
    "sigma_0 = 1.3e-41*u.cm**2 #Cross-section.\n",
    "v_max = 600 #Escape velocity of the system in km/s.\n",
    "period = 365 #The time period to perform the calculates over (typically 1 year) in units of days.\n",
    "energy_range = np.linspace(0,100,100) #The energy region of interest.\n",
    "detvar =('Ge') #The detector element to investigate - Germanium.\n",
    "dmvar=('CDM') #The Dark Matter cosmology assumed (CDM is currently only option with WDM and SiDM in development).\n",
    "vdf_var =('SHM') #The velocity model to use, 'SHM' (standard halo model) is currntly the default."
   ]
  },
  {
   "cell_type": "markdown",
   "id": "573ee8d4",
   "metadata": {},
   "source": [
    "#### Define the Nibbler class "
   ]
  },
  {
   "cell_type": "code",
   "execution_count": null,
   "id": "f73701f1",
   "metadata": {},
   "outputs": [],
   "source": [
    "nib = Nibbler(detvar, dmvar, 'Nucleon', vdf_var, v0,rho_dm, M_dm, sigma_0, v_max,period)                                           "
   ]
  },
  {
   "cell_type": "markdown",
   "id": "8ddf6055",
   "metadata": {},
   "source": [
    "#### Define the paths to the simulation data, and to the output folder"
   ]
  },
  {
   "cell_type": "code",
   "execution_count": 4,
   "id": "625f9257",
   "metadata": {},
   "outputs": [],
   "source": [
    "file_path = \"./snapshot_600.1.hdf5\" "
   ]
  },
  {
   "cell_type": "code",
   "execution_count": 1,
   "id": "a2e65a16",
   "metadata": {},
   "outputs": [
    {
     "ename": "NameError",
     "evalue": "name 'os' is not defined",
     "output_type": "error",
     "traceback": [
      "\u001b[0;31m---------------------------------------------------------------------------\u001b[0m",
      "\u001b[0;31mNameError\u001b[0m                                 Traceback (most recent call last)",
      "\u001b[0;32m<ipython-input-1-1420a3f1b3cb>\u001b[0m in \u001b[0;36m<module>\u001b[0;34m\u001b[0m\n\u001b[1;32m      1\u001b[0m \u001b[0mresults_path\u001b[0m \u001b[0;34m=\u001b[0m \u001b[0;34m\"./DarkMark_Example_Outputs/\"\u001b[0m\u001b[0;34m\u001b[0m\u001b[0;34m\u001b[0m\u001b[0m\n\u001b[0;32m----> 2\u001b[0;31m \u001b[0mCHECK_FOLDER\u001b[0m \u001b[0;34m=\u001b[0m \u001b[0mos\u001b[0m\u001b[0;34m.\u001b[0m\u001b[0mpath\u001b[0m\u001b[0;34m.\u001b[0m\u001b[0misdir\u001b[0m\u001b[0;34m(\u001b[0m\u001b[0mresults_path\u001b[0m\u001b[0;34m)\u001b[0m\u001b[0;34m\u001b[0m\u001b[0;34m\u001b[0m\u001b[0m\n\u001b[0m\u001b[1;32m      3\u001b[0m \u001b[0;32mif\u001b[0m \u001b[0;32mnot\u001b[0m \u001b[0mCHECK_FOLDER\u001b[0m\u001b[0;34m:\u001b[0m\u001b[0;34m\u001b[0m\u001b[0;34m\u001b[0m\u001b[0m\n\u001b[1;32m      4\u001b[0m     \u001b[0mos\u001b[0m\u001b[0;34m.\u001b[0m\u001b[0mmakedirs\u001b[0m\u001b[0;34m(\u001b[0m\u001b[0mresults_path\u001b[0m\u001b[0;34m)\u001b[0m\u001b[0;34m\u001b[0m\u001b[0;34m\u001b[0m\u001b[0m\n",
      "\u001b[0;31mNameError\u001b[0m: name 'os' is not defined"
     ]
    }
   ],
   "source": [
    "results_path = \"./DarkMark_Example_Outputs/\"\n",
    "CHECK_FOLDER = os.path.isdir(results_path)\n",
    "if not CHECK_FOLDER:\n",
    "    os.makedirs(results_path)"
   ]
  },
  {
   "cell_type": "markdown",
   "id": "d4301e55",
   "metadata": {},
   "source": [
    "#### Define how many evenly spaced samples you'd like to take around the solar circle."
   ]
  },
  {
   "cell_type": "code",
   "execution_count": 6,
   "id": "7bebc9b0",
   "metadata": {},
   "outputs": [],
   "source": [
    "n_samples = 8 "
   ]
  },
  {
   "cell_type": "markdown",
   "id": "37a8b3ca",
   "metadata": {},
   "source": [
    "### Load the simulation profile "
   ]
  },
  {
   "cell_type": "markdown",
   "id": "cf54099f",
   "metadata": {},
   "source": [
    "#### Load the simulation, centre and align it, and then visualize the dark matter component."
   ]
  },
  {
   "cell_type": "code",
   "execution_count": null,
   "id": "24d9c744",
   "metadata": {},
   "outputs": [],
   "source": [
    "target,s = load_sim_profile(True,file_path,True, True, results_path, cosmology = 'WMAP1') "
   ]
  },
  {
   "cell_type": "markdown",
   "id": "0ec7cd1a",
   "metadata": {},
   "source": [
    "### Generate the co-ordinates at which to samples the dark matter"
   ]
  },
  {
   "cell_type": "code",
   "execution_count": null,
   "id": "9c9e7141",
   "metadata": {},
   "outputs": [],
   "source": [
    "sample_coords, theta_ang = def_samp_coord(target, n_samples) "
   ]
  },
  {
   "cell_type": "markdown",
   "id": "f311ffd2",
   "metadata": {},
   "source": [
    "### Sample the dark matter and generate the velocity disitribution function in both the galactocentric and geocentric reference frames, for each of the samples."
   ]
  },
  {
   "cell_type": "code",
   "execution_count": null,
   "id": "e3b086fa",
   "metadata": {},
   "outputs": [],
   "source": [
    "vel_galacto, viel_geo = sample_dm_solcirc(nib,sample_coords, target, theta_ang, 'milkyway',results_path, False)   "
   ]
  },
  {
   "cell_type": "markdown",
   "id": "8a85863c",
   "metadata": {},
   "source": [
    "*Generate an example VDF plot comparing the galactocentric and geocentric distributions with a MB fit.*"
   ]
  },
  {
   "cell_type": "markdown",
   "id": "67447364",
   "metadata": {},
   "source": [
    "### Integrate over the velocity distributions to generate spectral rate functions."
   ]
  },
  {
   "cell_type": "code",
   "execution_count": null,
   "id": "12d45167",
   "metadata": {},
   "outputs": [],
   "source": [
    "bootstrap_rate(nib, n_samples, results_path, False) "
   ]
  },
  {
   "cell_type": "code",
   "execution_count": null,
   "id": "3efdc88e",
   "metadata": {},
   "outputs": [],
   "source": []
  }
 ],
 "metadata": {
  "kernelspec": {
   "display_name": "Python 3",
   "language": "python",
   "name": "python3"
  },
  "language_info": {
   "codemirror_mode": {
    "name": "ipython",
    "version": 3
   },
   "file_extension": ".py",
   "mimetype": "text/x-python",
   "name": "python",
   "nbconvert_exporter": "python",
   "pygments_lexer": "ipython3",
   "version": "3.6.13"
  }
 },
 "nbformat": 4,
 "nbformat_minor": 5
}
