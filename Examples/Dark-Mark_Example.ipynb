{
 "cells": [
  {
   "cell_type": "markdown",
   "id": "c7aa7453",
   "metadata": {},
   "source": [
    "# Example Use of Dark-MaRK Package"
   ]
  },
  {
   "cell_type": "markdown",
   "id": "b3bf6a44",
   "metadata": {},
   "source": [
    "The Dark Mark package is designed to create bespoke predictions for the direct detection of dark matter. It offers users the ability to alter the halo model, detector, and dark matter candidate. It also allows users to calculate their differential event rate using either analytical models, or numeric integration techniques using input simulations. \n"
   ]
  },
  {
   "cell_type": "markdown",
   "id": "560b7984",
   "metadata": {},
   "source": [
    "This tutorial will demonstrate how to use Dark MaRK to test the expected signal of a dark matter direct detector, given an example simulation. Further documentation can be found at https://dark-mark.readthedocs.io/en/latest/. To ensure this example notebook can run, there are some additional requirements in requirements_dev.txt. "
   ]
  },
  {
   "cell_type": "code",
   "execution_count": 2,
   "id": "f1ba90b7",
   "metadata": {},
   "outputs": [],
   "source": [
    "!pip install -r ../requirements_dev.txt"
   ]
  },
  {
   "cell_type": "markdown",
   "id": "654fec88",
   "metadata": {},
   "source": [
    "#### Import neccessary packages"
   ]
  },
  {
   "cell_type": "code",
   "execution_count": 29,
   "id": "b19caee6",
   "metadata": {},
   "outputs": [],
   "source": [
    "import astropy.units as u \n",
    "import astropy.constants as const  \n",
    "import darkmark\n",
    "from darkmark_plotting import vdf_load_plot, spectral_func_plot, annual_modulation_plot #import plotting scripts for display purposes\n",
    "from IPython.display import IFrame\n",
    "import matplotlib.pyplot as plt\n",
    "from mpl_toolkits.axes_grid.inset_locator import (inset_axes, InsetPosition,mark_inset)\n",
    "import numpy as np \n",
    "import numexpr as ne\n",
    "import os\n",
    "import scipy.stats as stats\n",
    "maxwell = stats.maxwell\n",
    "                                                  \n",
    "dru = 1./(u.d*u.kg*u.keV)\n",
    "tru = 1./(u.d*u.kg)"
   ]
  },
  {
   "cell_type": "markdown",
   "id": "dd287da0",
   "metadata": {},
   "source": [
    "#### Import some example data - in this case we are downloading a Milky Way halo analogue from the FIRE collaborations latte suite. They are hosted on [this website](https://girder.hub.yt/#collection/5b0427b2e9914800018237da) with further information [here](https://fire.northwestern.edu/milky-way/). We download only 1/4 of the particles due to large file size.  The file is large so expect a short wait for download. The download file is then named accordingly."
   ]
  },
  {
   "cell_type": "code",
   "execution_count": 2,
   "id": "532ab34a",
   "metadata": {},
   "outputs": [
    {
     "name": "stdout",
     "output_type": "stream",
     "text": [
      "--2021-10-18 16:38:13--  https://girder.hub.yt/api/v1/item/5b33f745323d120001bfe48d/download\n",
      "Resolving girder.hub.yt (girder.hub.yt)... 141.142.231.2\n",
      "Connecting to girder.hub.yt (girder.hub.yt)|141.142.231.2|:443... connected.\n",
      "HTTP request sent, awaiting response... 200 OK\n",
      "Length: 2460753960 (2.3G) [application/octet-stream]\n",
      "Saving to: ‘download’\n",
      "\n",
      "download            100%[===================>]   2.29G  4.02MB/s    in 20m 43s \n",
      "\n",
      "2021-10-18 16:58:57 (1.89 MB/s) - ‘download’ saved [2460753960/2460753960]\n",
      "\n"
     ]
    }
   ],
   "source": [
    "!wget https://girder.hub.yt/api/v1/item/5b33f745323d120001bfe48d/download"
   ]
  },
  {
   "cell_type": "code",
   "execution_count": 6,
   "id": "958a951e",
   "metadata": {},
   "outputs": [],
   "source": [
    "!mv download snapshot_600.1.hdf5"
   ]
  },
  {
   "cell_type": "markdown",
   "id": "e75db463",
   "metadata": {},
   "source": [
    "#### Load in the functions from the darkmark package that are needed"
   ]
  },
  {
   "cell_type": "code",
   "execution_count": 1,
   "id": "e1e6eed5",
   "metadata": {},
   "outputs": [
    {
     "name": "stdout",
     "output_type": "stream",
     "text": [
      "/Users/gracelawrence/Documents/2021/Dark-MaRK\r\n"
     ]
    }
   ],
   "source": [
    "from darkmark.boostrap import bootstrap_rate\n",
    "from darkmark.simload import load_sim_profile \n",
    "from darkmark.sampling_transformations import def_samp_coord, calc_real_uE_pE,sample_dm_solcirc \n",
    "from darkmark.dm_detector_class import Nibbler "
   ]
  },
  {
   "cell_type": "markdown",
   "id": "cbba682f",
   "metadata": {},
   "source": [
    "#### Define the parameters of the experiment you want to model. Some of these parameters are not called in the example functions below."
   ]
  },
  {
   "cell_type": "code",
   "execution_count": 2,
   "id": "3352e3b3",
   "metadata": {},
   "outputs": [],
   "source": [
    "v0 = 233 #Average Velocity Speed of Dark Matter in the Halo in km/s.\n",
    "rho_dm = 0.3 #Dark Matter Density in (Gev/c^2)/cm^3.\n",
    "M_dm = 60 #Dark Matter Particle Mass in GeV/c^2.\n",
    "A = 73 #Atomic Mass of the Target Detector Nuclei.\n",
    "sigma_0 = 1.3e-41*u.cm**2 #Cross-section.\n",
    "v_max = 600 #Escape velocity of the system in km/s.\n",
    "period = 365 #The time period to perform the calculates over (typically 1 year) in units of days.\n",
    "energy_range = np.linspace(0,100,100) #The energy region of interest.\n",
    "detvar =('Ge') #The detector element to investigate - Germanium.\n",
    "dmvar=('CDM') #The Dark Matter cosmology assumed (CDM is currently only option with WDM and SiDM in development).\n",
    "vdf_var =('SHM') #The velocity model to use, 'SHM' (standard halo model) is currently the default."
   ]
  },
  {
   "cell_type": "markdown",
   "id": "0dfb1a5a",
   "metadata": {},
   "source": [
    "#### Define the Nibbler class "
   ]
  },
  {
   "cell_type": "code",
   "execution_count": null,
   "id": "123c01d0",
   "metadata": {},
   "outputs": [],
   "source": [
    "nib = Nibbler(detvar, dmvar, 'Nucleon', vdf_var, v0,rho_dm, M_dm, sigma_0, v_max,period)                                           "
   ]
  },
  {
   "cell_type": "markdown",
   "id": "fc00367a",
   "metadata": {},
   "source": [
    "#### Define the paths to the simulation data, and to the output folder"
   ]
  },
  {
   "cell_type": "code",
   "execution_count": 3,
   "id": "1652d967",
   "metadata": {},
   "outputs": [],
   "source": [
    "file_path = \"./snapshot_600.1.hdf5\" "
   ]
  },
  {
   "cell_type": "code",
   "execution_count": 4,
   "id": "092b0b72",
   "metadata": {},
   "outputs": [],
   "source": [
    "results_path = \"./DarkMark_Example_Outputs/\"\n",
    "CHECK_FOLDER = os.path.isdir(results_path)\n",
    "if not CHECK_FOLDER:\n",
    "    os.makedirs(results_path)"
   ]
  },
  {
   "cell_type": "markdown",
   "id": "9c2d9898",
   "metadata": {},
   "source": [
    "#### Define how many evenly spaced samples you'd like to take around the solar circle."
   ]
  },
  {
   "cell_type": "code",
   "execution_count": 5,
   "id": "3f261e61",
   "metadata": {},
   "outputs": [],
   "source": [
    "n_samples = 8 "
   ]
  },
  {
   "cell_type": "markdown",
   "id": "4b1d9e58",
   "metadata": {},
   "source": [
    "#### Load the simulation profile "
   ]
  },
  {
   "cell_type": "markdown",
   "id": "73a75684",
   "metadata": {},
   "source": [
    "#### Load the simulation, centre and align it, and then visualize the dark matter component."
   ]
  },
  {
   "cell_type": "code",
   "execution_count": 10,
   "id": "886583f1",
   "metadata": {},
   "outputs": [],
   "source": [
    "target,s = load_sim_profile(True,file_path,True, True, results_path, cosmology = 'WMAP1') "
   ]
  },
  {
   "cell_type": "code",
   "execution_count": 20,
   "id": "3f3b2313",
   "metadata": {},
   "outputs": [
    {
     "data": {
      "text/html": [
       "\n",
       "        <iframe\n",
       "            width=\"500\"\n",
       "            height=\"500\"\n",
       "            src=\"./DarkMark_Example_Outputs/DarkMaRK_results/DM_visualization.png\"\n",
       "            frameborder=\"0\"\n",
       "            allowfullscreen\n",
       "            \n",
       "        ></iframe>\n",
       "        "
      ],
      "text/plain": [
       "<IPython.lib.display.IFrame at 0x112f035d0>"
      ]
     },
     "execution_count": 20,
     "metadata": {},
     "output_type": "execute_result"
    }
   ],
   "source": [
    "IFrame(\"./DarkMark_Example_Outputs/DarkMaRK_results/DM_visualization.png\", width=500, height=500)"
   ]
  },
  {
   "cell_type": "markdown",
   "id": "cae50cb1",
   "metadata": {},
   "source": [
    "#### Generate the co-ordinates at which to samples the dark matter"
   ]
  },
  {
   "cell_type": "code",
   "execution_count": 8,
   "id": "4af8c8b7",
   "metadata": {},
   "outputs": [],
   "source": [
    "sample_coords, theta_ang = def_samp_coord(target, n_samples) "
   ]
  },
  {
   "cell_type": "markdown",
   "id": "c3fcf3e2",
   "metadata": {},
   "source": [
    "#### Investigate the sampling co-ordinates positions"
   ]
  },
  {
   "cell_type": "code",
   "execution_count": 9,
   "id": "eed25805",
   "metadata": {},
   "outputs": [],
   "source": [
    "print(sample_coords)\n",
    "plt.clf()\n",
    "plt.scatter(sample_coords[:,0],sample_coords[:,1])\n",
    "plt.xlabel('x (kpc)')\n",
    "plt.ylabel('y (kpc)')\n",
    "plt.show()"
   ]
  },
  {
   "cell_type": "markdown",
   "id": "b384c426",
   "metadata": {},
   "source": [
    "#### Sample the dark matter and generate the velocity disitribution function in both the galactocentric and geocentric reference frames, for each of the samples."
   ]
  },
  {
   "cell_type": "code",
   "execution_count": 11,
   "id": "d6b3191c",
   "metadata": {},
   "outputs": [],
   "source": [
    "vel_galacto, vel_geo = sample_dm_solcirc(nib,sample_coords, target, theta_ang, 'milkyway',results_path, False)   "
   ]
  },
  {
   "cell_type": "markdown",
   "id": "4ebe32b5",
   "metadata": {},
   "source": [
    "#### Load and display the geocentric versus galactocentric velocity speed distributions for a given day of the year, for a given sample around the solar circle."
   ]
  },
  {
   "cell_type": "code",
   "execution_count": 12,
   "id": "908c6a48",
   "metadata": {},
   "outputs": [],
   "source": [
    "day = 152\n",
    "sample = 5\n",
    "vdf_load_plot(day,results_path, sample)"
   ]
  },
  {
   "cell_type": "markdown",
   "id": "637b1950",
   "metadata": {},
   "source": [
    "#### Integrate over the velocity distributions to generate spectral rate functions."
   ]
  },
  {
   "cell_type": "code",
   "execution_count": 13,
   "id": "4e96fbde",
   "metadata": {},
   "outputs": [],
   "source": [
    "bootstrap_rate(nib, n_samples, results_path, False) "
   ]
  },
  {
   "cell_type": "code",
   "execution_count": 22,
   "id": "362711fb",
   "metadata": {},
   "outputs": [],
   "source": [
    "spectral_func_plot(nib, sample, results_path) "
   ]
  },
  {
   "cell_type": "markdown",
   "id": "7fd2208b",
   "metadata": {},
   "source": [
    "#### Integrate the spectral rate function, over a given energy band, to generate an annual modulation prediction. \n",
    "\n",
    "Here we integrate the spectral rate function of sample 6, between energies 2 and 6keV. "
   ]
  },
  {
   "cell_type": "code",
   "execution_count": 23,
   "id": "306a8cb6",
   "metadata": {},
   "outputs": [],
   "source": [
    "annual_modulation_plot(nib, 6, 2 , 6, 'Nuclear', results_path) "
   ]
  },
  {
   "cell_type": "markdown",
   "id": "b1610348",
   "metadata": {},
   "source": [
    "Optionally, integrate over electron equivalent (quenched) energies, kevee."
   ]
  },
  {
   "cell_type": "code",
   "execution_count": 24,
   "id": "2b3b8d9d",
   "metadata": {},
   "outputs": [],
   "source": [
    "annual_modulation_plot(nib, 6, 2 , 6, 'E_Equiv', results_path) "
   ]
  }
 ],
 "metadata": {
  "kernelspec": {
   "display_name": "Python 3 (ipykernel)",
   "language": "python",
   "name": "python3"
  },
  "language_info": {
   "codemirror_mode": {
    "name": "ipython",
    "version": 3
   },
   "file_extension": ".py",
   "mimetype": "text/x-python",
   "name": "python",
   "nbconvert_exporter": "python",
   "pygments_lexer": "ipython3",
   "version": "3.7.11"
  }
 },
 "nbformat": 4,
 "nbformat_minor": 5
}
