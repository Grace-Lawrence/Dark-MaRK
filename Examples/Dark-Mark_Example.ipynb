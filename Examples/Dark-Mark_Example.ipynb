{
 "cells": [
  {
   "cell_type": "markdown",
   "metadata": {},
   "source": [
    "# Example Use of Dark-MaRK Package"
   ]
  },
  {
   "cell_type": "markdown",
   "metadata": {},
   "source": [
    "#### Explanation of the package, what it does, and what this tutorial will show, as well as where to find further documentation, examples or help."
   ]
  },
  {
   "cell_type": "markdown",
   "metadata": {},
   "source": [
    "Import neccessary packages"
   ]
  },
  {
   "cell_type": "code",
   "execution_count": 1,
   "metadata": {},
   "outputs": [],
   "source": [
    "import astropy.units as u \n",
    "import darkmark\n",
    "import numpy as np "
   ]
  },
  {
   "cell_type": "markdown",
   "metadata": {},
   "source": [
    "Import some example data - in this case we are downloading a Milky Way halo analogue from the FIRE collaborations latte suite. We download only 1/4 of the particles due to large file size.  The file is large so expect a short wait for download. "
   ]
  },
  {
   "cell_type": "code",
   "execution_count": 3,
   "metadata": {},
   "outputs": [
    {
     "name": "stdout",
     "output_type": "stream",
     "text": [
      "--2021-10-14 00:57:50--  https://girder.hub.yt/api/v1/item/5b33f745323d120001bfe48d/download\n",
      "Resolving girder.hub.yt (girder.hub.yt)... 141.142.231.2\n",
      "Connecting to girder.hub.yt (girder.hub.yt)|141.142.231.2|:443... connected.\n",
      "HTTP request sent, awaiting response... 200 OK\n",
      "Length: 2460753960 (2.3G) [application/octet-stream]\n",
      "Saving to: ‘download’\n",
      "\n",
      "download              0%[                    ]  10.98M  2.51MB/s    eta 15m 47s^C\n"
     ]
    }
   ],
   "source": [
    "!wget https://girder.hub.yt/api/v1/item/5b33f745323d120001bfe48d/download"
   ]
  },
  {
   "cell_type": "markdown",
   "metadata": {},
   "source": [
    "Load in the functions from the darkmark package that are needed"
   ]
  },
  {
   "cell_type": "code",
   "execution_count": 1,
   "metadata": {},
   "outputs": [
    {
     "name": "stdout",
     "output_type": "stream",
     "text": [
      "/Users/gracelawrence/Documents/2021/Dark-MaRK\r\n"
     ]
    }
   ],
   "source": [
    "from darkmark.boostrap import bootstrap_rate\n",
    "from darkmark.simload import load_sim_profile \n",
    "from darkmark.sampling_transformations import def_samp_coord, calc_real_uE_pE,sample_dm_solcirc \n",
    "from darkmark.dm_detector_class import Nibbler "
   ]
  },
  {
   "cell_type": "markdown",
   "metadata": {},
   "source": [
    "Define the parameters of the experiment you want to model. Some of these parameters are not called in the example functions below."
   ]
  },
  {
   "cell_type": "code",
   "execution_count": 10,
   "metadata": {},
   "outputs": [],
   "source": [
    "v0 = 233 #Average Velocity Speed of Dark Matter in the Halo in km/s.\n",
    "rho_dm = 0.3 #Dark Matter Density in (Gev/c^2)/cm^3.\n",
    "M_dm = 60 #Dark Matter Particle Mass in GeV/c^2.\n",
    "A = 73 #Atomic Mass of the Target Detector Nuclei.\n",
    "sigma_0 = 1.3e-41*u.cm**2 #Cross-section.\n",
    "v_max = 600 #Escape velocity of the system in km/s.\n",
    "period = 365 #The time period to perform the calculates over (typically 1 year) in units of days.\n",
    "energy_range = np.linspace(0,100,100) #The energy region of interest.\n",
    "detvar =('Ge') #The detector element to investigate.\n",
    "dmvar=('CDM') #The Dark Matter cosmology assumed (CDM is currently only option with WDM and SiDM in development).\n",
    "vdf_var =('SHM') #The velocity model to use, 'SHM' (standard halo model) is currntly the default."
   ]
  },
  {
   "cell_type": "markdown",
   "metadata": {},
   "source": [
    "### Define the Nibbler class "
   ]
  },
  {
   "cell_type": "code",
   "execution_count": null,
   "metadata": {},
   "outputs": [],
   "source": [
    "nib = Nibbler(detvar, dmvar, 'Nucleon', vdf_var, v0,rho_dm, M_dm, sigma_0, v_max,period)                                           "
   ]
  },
  {
   "cell_type": "markdown",
   "metadata": {},
   "source": [
    "### Define the paths to the simulation data, and to the output folder"
   ]
  },
  {
   "cell_type": "code",
   "execution_count": 11,
   "metadata": {},
   "outputs": [],
   "source": [
    "file_path = \"./Simulations/snapshot_600.1.hdf5\""
   ]
  },
  {
   "cell_type": "code",
   "execution_count": 12,
   "metadata": {},
   "outputs": [],
   "source": [
    "results_path = \"./DarkMark_Example_Outputs/\""
   ]
  },
  {
   "cell_type": "code",
   "execution_count": 13,
   "metadata": {},
   "outputs": [],
   "source": [
    "n_samples = 8 #8 samples to be taken around the solar circle "
   ]
  },
  {
   "cell_type": "markdown",
   "metadata": {},
   "source": [
    "### Load the simulation profile "
   ]
  },
  {
   "cell_type": "code",
   "execution_count": null,
   "metadata": {},
   "outputs": [],
   "source": [
    "target,s = load_sim_profile(True,file_path,True, True, results_path, cosmology = 'WMAP1') "
   ]
  },
  {
   "cell_type": "markdown",
   "metadata": {},
   "source": [
    "Load galaxy realization and profile."
   ]
  },
  {
   "cell_type": "markdown",
   "metadata": {},
   "source": [
    "### Generate the co-ordinates at which to samples the dark matter"
   ]
  },
  {
   "cell_type": "code",
   "execution_count": null,
   "metadata": {},
   "outputs": [],
   "source": [
    "sample_coords, theta_ang = def_samp_coord(target, n_samples) "
   ]
  },
  {
   "cell_type": "markdown",
   "metadata": {},
   "source": [
    "### Sample the dark matter and generate the velocity disitribution function in both the galactocentric and geocentric reference frames, for each of the samples."
   ]
  },
  {
   "cell_type": "code",
   "execution_count": null,
   "metadata": {},
   "outputs": [],
   "source": [
    "vel_galacto, vel_geo = sample_dm_solcirc(nib,sample_coords, target, theta_ang, 'milkyway',results_path, False)   "
   ]
  },
  {
   "cell_type": "markdown",
   "metadata": {},
   "source": [
    "Generate an example VDF plot comparing the galactocentric and geocentric distributions with a MB fit."
   ]
  },
  {
   "cell_type": "markdown",
   "metadata": {},
   "source": [
    "### Integrate over the velocity distributions to generate spectral rate functions."
   ]
  },
  {
   "cell_type": "code",
   "execution_count": null,
   "metadata": {},
   "outputs": [],
   "source": [
    "bootstrap_rate(nib, n_samples, results_path, False) "
   ]
  },
  {
   "cell_type": "markdown",
   "metadata": {},
   "source": [
    "Generate a spectral rate function plot"
   ]
  },
  {
   "cell_type": "code",
   "execution_count": null,
   "metadata": {},
   "outputs": [],
   "source": []
  }
 ],
 "metadata": {
  "kernelspec": {
   "display_name": "Python 3",
   "language": "python",
   "name": "python3"
  },
  "language_info": {
   "codemirror_mode": {
    "name": "ipython",
    "version": 3
   },
   "file_extension": ".py",
   "mimetype": "text/x-python",
   "name": "python",
   "nbconvert_exporter": "python",
   "pygments_lexer": "ipython3",
   "version": "3.7.4"
  }
 },
 "nbformat": 4,
 "nbformat_minor": 5
}
